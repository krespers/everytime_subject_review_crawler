{
 "cells": [
  {
   "cell_type": "markdown",
   "metadata": {},
   "source": [
    "manual articles html parser.ipynb를 통해서 수작업으로 csv 파일을 생성할 경우, \n",
    "csv 헤더 부분(엑셀 첫 번째 행 부분)이 다른 행에 중복으로 생성될 가능성이 있습니다.\n",
    "이를 제거하기 위한 실행 파일입니다.\n",
    "\n",
    "파일의 형태는 ooooo_cleaned_articles.csv 형태의 이름으로 저장됩니다."
   ]
  },
  {
   "cell_type": "code",
   "execution_count": null,
   "metadata": {},
   "outputs": [],
   "source": [
    "import csv\n",
    "import os\n",
    "!pip install glob\n",
    "import glob"
   ]
  },
  {
   "cell_type": "code",
   "execution_count": 3,
   "metadata": {},
   "outputs": [
    {
     "name": "stdout",
     "output_type": "stream",
     "text": [
      "Cleaned CSV saved to .\\VR AR의 개론 및 실습_cleaned_articles.csv\n",
      "Cleaned CSV saved to .\\건설환경공학개론_cleaned_articles.csv\n",
      "Cleaned CSV saved to .\\공학 전공 탐색_cleaned_articles.csv\n",
      "Cleaned CSV saved to .\\공학경제_cleaned_articles.csv\n",
      "Cleaned CSV saved to .\\공학기술과사회_cleaned_articles.csv\n",
      "Cleaned CSV saved to .\\공학수학 3_cleaned_articles.csv\n",
      "Cleaned CSV saved to .\\기계공학개론_cleaned_articles.csv\n",
      "Cleaned CSV saved to .\\기술과 창업_cleaned_articles.csv\n",
      "Cleaned CSV saved to .\\딥러닝의 기초_cleaned_articles.csv\n",
      "Cleaned CSV saved to .\\로봇인공지능만들기_cleaned_articles.csv\n",
      "Cleaned CSV saved to .\\머신러닝을 위한 기초 수학 및 프로그래밍 실습_cleaned_articles.csv\n",
      "Cleaned CSV saved to .\\블록체인의 실무응용 1_cleaned_articles.csv\n",
      "Cleaned CSV saved to .\\산업공학개론_cleaned_articles.csv\n",
      "Cleaned CSV saved to .\\에너지자원공학개론_cleaned_articles.csv\n",
      "Cleaned CSV saved to .\\재료공학개론_cleaned_articles.csv\n",
      "Cleaned CSV saved to .\\전기.정보공학개론_cleaned_articles.csv\n",
      "Cleaned CSV saved to .\\정보 보호 및 블록체인 개론_cleaned_articles.csv\n",
      "Cleaned CSV saved to .\\창의공학설계_cleaned_articles.csv\n",
      "Cleaned CSV saved to .\\화학생물공학개론_cleaned_articles.csv\n"
     ]
    }
   ],
   "source": [
    "# CSV 파일이 있는 폴더 경로\n",
    "folder_path = \"./\"  # 현재 폴더, 필요시 변경\n",
    "\n",
    "# 출력 파일을 저장할 폴더 경로\n",
    "output_folder_path = \"./cleaned_files/\"  # 필요시 변경\n",
    "\n",
    "# 출력 폴더가 존재하지 않으면 생성\n",
    "if not os.path.exists(output_folder_path):\n",
    "    os.makedirs(output_folder_path)\n",
    "\n",
    "# 패턴에 맞는 모든 CSV 파일 찾기\n",
    "csv_files = glob.glob(os.path.join(folder_path, \"*_parsed_articles.csv\"))\n",
    "\n",
    "# 모든 파일에 대해 중복 헤더 제거 작업 수행\n",
    "for input_csv in csv_files:\n",
    "    # 출력 파일 경로 설정\n",
    "    output_csv = input_csv.replace(\"_parsed_articles.csv\", \"_cleaned_articles.csv\")\n",
    "    \n",
    "    # CSV 파일 읽기\n",
    "    with open(input_csv, mode=\"r\", encoding=\"utf-8-sig\") as infile:\n",
    "        reader = csv.reader(infile)\n",
    "        rows = list(reader)\n",
    "\n",
    "    # 첫 번째 행(헤더) 추출\n",
    "    header = rows[0]\n",
    "\n",
    "    # 중복 제거: 첫 번째 행을 제외한 행들 중에서 헤더와 동일한 행 제거\n",
    "    cleaned_rows = [rows[0]]  # 헤더는 반드시 포함\n",
    "    cleaned_rows += [row for row in rows[1:] if row != header]\n",
    "\n",
    "    # 정리된 데이터를 새 파일에 저장\n",
    "    with open(output_csv, mode=\"w\", encoding=\"utf-8-sig\", newline=\"\") as outfile:\n",
    "        writer = csv.writer(outfile)\n",
    "        writer.writerows(cleaned_rows)\n",
    "\n",
    "    print(f\"Cleaned CSV saved to {output_csv}\")"
   ]
  },
  {
   "cell_type": "code",
   "execution_count": null,
   "metadata": {},
   "outputs": [],
   "source": []
  }
 ],
 "metadata": {
  "kernelspec": {
   "display_name": "base",
   "language": "python",
   "name": "python3"
  },
  "language_info": {
   "codemirror_mode": {
    "name": "ipython",
    "version": 3
   },
   "file_extension": ".py",
   "mimetype": "text/x-python",
   "name": "python",
   "nbconvert_exporter": "python",
   "pygments_lexer": "ipython3",
   "version": "3.12.4"
  }
 },
 "nbformat": 4,
 "nbformat_minor": 2
}
